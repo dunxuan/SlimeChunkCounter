{
 "cells": [
  {
   "cell_type": "markdown",
   "metadata": {},
   "source": [
    "测试随机数是否正常使用\n",
    "测试数据：\n",
    "x=-2,z=0,True\n",
    "x=-1,z=0,False"
   ]
  },
  {
   "cell_type": "code",
   "execution_count": null,
   "metadata": {},
   "outputs": [],
   "source": [
    "import random\n",
    "\n",
    "def get_slime_random(chunkX, chunkZ, worldSeed, scrambler):\n",
    "    return random.Random(worldSeed +\n",
    "                        (chunkX * chunkX * 4987142) +\n",
    "                        (chunkX * 5947611) +\n",
    "                        (chunkZ * chunkZ) * 4392871 +\n",
    "                        (chunkZ * 389711) ^ scrambler)\n",
    "\n",
    "if __name__ == \"__main__\":\n",
    "    seed = 0\n",
    "    x, z = -2, 0\n",
    "    bl = get_slime_random(x, z, seed, 987234911).randint(0, 10) == 0\n",
    "    if bl:\n",
    "        print(\"True\")\n",
    "    else:\n",
    "        print(\"False\")"
   ]
  }
 ],
 "metadata": {
  "kernelspec": {
   "display_name": "Python 3",
   "language": "python",
   "name": "python3"
  },
  "language_info": {
   "codemirror_mode": {
    "name": "ipython",
    "version": 3
   },
   "file_extension": ".py",
   "mimetype": "text/x-python",
   "name": "python",
   "nbconvert_exporter": "python",
   "pygments_lexer": "ipython3",
   "version": "3.11.9"
  }
 },
 "nbformat": 4,
 "nbformat_minor": 2
}
